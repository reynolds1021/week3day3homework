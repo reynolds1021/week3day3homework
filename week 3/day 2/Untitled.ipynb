{
 "cells": [
  {
   "cell_type": "code",
   "execution_count": 1,
   "metadata": {},
   "outputs": [
    {
     "data": {
      "text/plain": [
       "[2, 10, 12]"
      ]
     },
     "execution_count": 1,
     "metadata": {},
     "output_type": "execute_result"
    }
   ],
   "source": [
    "even_list = [2, 7, 10, 5, 12]\n",
    "\n",
    "\n",
    "def even_lst(a_list):\n",
    "    empty_list= []\n",
    "    for i in a_list:\n",
    "        if i % 2 == 0:\n",
    "            empty_list.append(i)\n",
    "    return empty_list\n",
    "\n",
    "def even2(a_list):\n",
    "    \n",
    "    return [i for i in a_list if i%2 ==0]\n",
    "\n",
    "#def even3(a_list):\n",
    "    \n",
    " #   for i in range(len(a_list)):\n",
    "  #      if a_list[i] % 2 == 1:\n",
    "  #          a_list.pop(i)\n",
    "            \n",
    "\n",
    "even_lst(even_list)\n",
    "\n",
    "\n"
   ]
  },
  {
   "cell_type": "code",
   "execution_count": null,
   "metadata": {},
   "outputs": [],
   "source": []
  }
 ],
 "metadata": {
  "kernelspec": {
   "display_name": "Python 3",
   "language": "python",
   "name": "python3"
  },
  "language_info": {
   "codemirror_mode": {
    "name": "ipython",
    "version": 3
   },
   "file_extension": ".py",
   "mimetype": "text/x-python",
   "name": "python",
   "nbconvert_exporter": "python",
   "pygments_lexer": "ipython3",
   "version": "3.8.3"
  }
 },
 "nbformat": 4,
 "nbformat_minor": 4
}
