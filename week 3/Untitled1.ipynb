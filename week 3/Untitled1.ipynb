{
 "cells": [
  {
   "cell_type": "code",
   "execution_count": null,
   "metadata": {},
   "outputs": [],
   "source": [
    "def printCollatz(n): \n",
    "      \n",
    "    # We simply follow steps \n",
    "    # while we do not reach 1 \n",
    "    while n != 1: \n",
    "        print(n, end = ' ') \n",
    "  \n",
    "        # If n is odd  \n",
    "        if n & 1: \n",
    "            n = 3 * n + 1\n",
    "  \n",
    "        # If even  \n",
    "        else: \n",
    "            n = n // 2\n",
    "  \n",
    "    # Print 1 at the end  \n",
    "    print(n) "
   ]
  },
  {
   "cell_type": "code",
   "execution_count": null,
   "metadata": {},
   "outputs": [],
   "source": [
    "printCollatz(99)"
   ]
  },
  {
   "cell_type": "code",
   "execution_count": null,
   "metadata": {},
   "outputs": [],
   "source": [
    "def printCollatz(n): \n",
    "      \n",
    "    # We simply follow steps \n",
    "    # while we do not reach 1 \n",
    "    while n != 1: \n",
    "        print(n, end = ' ') \n",
    "  \n",
    "        # If n is odd  \n",
    "        if n & 1: \n",
    "            n = 3 * n + 1\n",
    "  \n",
    "        # If even  \n",
    "        else: \n",
    "            n = n // 2\n",
    "  \n",
    "    # Print 1 at the end  \n",
    "    print(n) \n",
    "    \n",
    "    "
   ]
  }
 ],
 "metadata": {
  "kernelspec": {
   "display_name": "Python 3",
   "language": "python",
   "name": "python3"
  },
  "language_info": {
   "codemirror_mode": {
    "name": "ipython",
    "version": 3
   },
   "file_extension": ".py",
   "mimetype": "text/x-python",
   "name": "python",
   "nbconvert_exporter": "python",
   "pygments_lexer": "ipython3",
   "version": "3.8.3"
  }
 },
 "nbformat": 4,
 "nbformat_minor": 4
}
