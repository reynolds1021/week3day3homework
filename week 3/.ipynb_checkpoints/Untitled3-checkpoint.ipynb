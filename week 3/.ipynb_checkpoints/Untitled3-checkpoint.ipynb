{
 "cells": [
  {
   "cell_type": "code",
   "execution_count": null,
   "metadata": {},
   "outputs": [],
   "source": [
    "Electric Company\n",
    "Create a function that given a list which represents street lights given as a parameter(l_street), determine if an outage has occurred. A street with a total number of \"F\" greater than or equal to 2 returns \"Outage\", anything below returns \"Power\"\n",
    "Example Input: [ T, F, F, F ] \n",
    "Example Output: \"Outage\"\n",
    "Example Input: [T, T, F, T]\n",
    "Example Output: \"Power"
   ]
  },
  {
   "cell_type": "code",
   "execution_count": null,
   "metadata": {},
   "outputs": [],
   "source": []
  }
 ],
 "metadata": {
  "kernelspec": {
   "display_name": "Python 3",
   "language": "python",
   "name": "python3"
  }
 },
 "nbformat": 4,
 "nbformat_minor": 4
}
