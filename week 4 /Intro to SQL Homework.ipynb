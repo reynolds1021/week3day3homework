{
 "cells": [
  {
   "cell_type": "code",
   "execution_count": 6,
   "metadata": {},
   "outputs": [
    {
     "data": {
      "text/plain": [
       "[1, 2]"
      ]
     },
     "execution_count": 6,
     "metadata": {},
     "output_type": "execute_result"
    }
   ],
   "source": [
    "\n",
    "    \n",
    "    \n",
    "    \n",
    "  \n",
    "\n"
   ]
  },
  {
   "cell_type": "code",
   "execution_count": null,
   "metadata": {},
   "outputs": [],
   "source": []
  },
  {
   "cell_type": "code",
   "execution_count": null,
   "metadata": {},
   "outputs": [],
   "source": [
    "--Question 1: How many actors are there with the last name 'Wahlberg'?\n",
    "\n",
    "SELECT first_name, last_name \n",
    "FROM actor\n",
    "WHERE last_name = 'Wahlberg';\n",
    "\n",
    "--Question 2: How many payments were made between $3.99 and $5.99?\n",
    "SELECT COUNT(*)\n",
    "FROM payment \n",
    "WHERE amount BETWEEN 3.99 and 5.99;\n",
    "\n",
    "--Question 3: What film does the store have the most of?\n",
    "SELECT film_id \n",
    "FROM inventory \n",
    "GROUP BY film_id\n",
    "HAVING COUNT(*)\n",
    "ORDER BY COUNT(*) DESC\n",
    "LIMIT 1\n",
    "\n",
    "--Question 4: How many customers have the last name 'William'?\n",
    "SELECT last_name\n",
    "FROM customer\n",
    "WHERE last_name = 'William';\n",
    "\n",
    "--Question 5: What store employee sold the most rentals? \n",
    "SELECT  COUNT(staff_id)\n",
    "FROM payment \n",
    "GROUP BY staff_id\n",
    "\n",
    "--Question 6: How many different district names are there? \n",
    "SELECT MAX(customer_id)\n",
    "FROM rental;\n",
    "\n",
    "\n",
    "\n",
    "--Question 7: What film has the most actors in it?\n",
    "SELECT film_id, COUNT(*)\n",
    "FROM film_actor\n",
    "GROUP BY film_id\n",
    "ORDER BY num_actors DESC;\n",
    "\n",
    "--Question 8: From store_id 1, how many customers have a last name ending with 'es'?\n",
    "SELECT last_name, store_id\n",
    "FROM customer\n",
    "WHERE store_id = 1 AND last_name LIKE '%es';\n",
    "\n",
    "--Question 9--\n",
    "SELECT amount, COUNT(*) \n",
    "FROM payment\n",
    "GROUP BY amount \n",
    "HAVING COUNT(*) > 250; \n",
    "\n",
    "--Question 10: How many rating categories are there?\n",
    "SELECT rating \n",
    "FROM film \n",
    "GROUP BY rating \n",
    "ORDER BY COUNT(*) DESC \n",
    "\n",
    "\n",
    "\n",
    "\n",
    "\n",
    "\n",
    "\n",
    "\n",
    "\n",
    "\n",
    "\n",
    "\n",
    "\n",
    "\n",
    "\n",
    "\n",
    "\n"
   ]
  }
 ],
 "metadata": {
  "kernelspec": {
   "display_name": "Python 3",
   "language": "python",
   "name": "python3"
  },
  "language_info": {
   "codemirror_mode": {
    "name": "ipython",
    "version": 3
   },
   "file_extension": ".py",
   "mimetype": "text/x-python",
   "name": "python",
   "nbconvert_exporter": "python",
   "pygments_lexer": "ipython3",
   "version": "3.8.3"
  }
 },
 "nbformat": 4,
 "nbformat_minor": 4
}
